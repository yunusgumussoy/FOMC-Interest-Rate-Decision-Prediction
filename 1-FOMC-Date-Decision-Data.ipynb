{
 "cells": [
  {
   "cell_type": "markdown",
   "id": "467f9a70-9692-457d-bb87-2a55069d9871",
   "metadata": {},
   "source": [
    "Fed Interest Rate Decision\n",
    "\n",
    "Federal Open Market Committee (FOMC) members vote on where to set the rate.\n",
    "\n",
    "Data is manually fetched from Investing.com:\n",
    "https://www.investing.com/economic-calendar/interest-rate-decision-168"
   ]
  },
  {
   "cell_type": "code",
   "execution_count": 2,
   "id": "fd5b9b85-fd4f-4fa5-b6c6-e758ca16d973",
   "metadata": {},
   "outputs": [
    {
     "name": "stdout",
     "output_type": "stream",
     "text": [
      "  Release Date      Time  Actual Forecast  Previous Decision\n",
      "0   1998-10-15  13:00:00    5.00      NaN      5.25   -0.25%\n",
      "1   1998-11-17  13:00:00    4.75      NaN      5.00   -0.25%\n",
      "2   1999-06-30  13:00:00    5.00      NaN      4.75   +0.25%\n",
      "3   1999-08-24  13:00:00    5.25      NaN      5.00   +0.25%\n",
      "4   1999-11-16  13:00:00    5.50      NaN      5.25   +0.25%\n"
     ]
    }
   ],
   "source": [
    "import pandas as pd\n",
    "\n",
    "# Read the Excel file into a DataFrame\n",
    "df = pd.read_csv('fomc-data.csv')\n",
    "\n",
    "# Display the first few rows\n",
    "print(df.head())\n"
   ]
  },
  {
   "cell_type": "markdown",
   "id": "7e820e0b-7afd-410f-9bea-c48106bc891b",
   "metadata": {},
   "source": [
    "The \"Release Date\" column is in the format \"Month Day, Year\" (e.g., \"Dec 18, 2024\"). I convert it to the \"YYYY-MM-DD\" format."
   ]
  },
  {
   "cell_type": "code",
   "execution_count": 4,
   "id": "ac44ed98-8ff5-4c16-bf9f-f226db28e818",
   "metadata": {},
   "outputs": [
    {
     "data": {
      "text/html": [
       "<div>\n",
       "<style scoped>\n",
       "    .dataframe tbody tr th:only-of-type {\n",
       "        vertical-align: middle;\n",
       "    }\n",
       "\n",
       "    .dataframe tbody tr th {\n",
       "        vertical-align: top;\n",
       "    }\n",
       "\n",
       "    .dataframe thead th {\n",
       "        text-align: right;\n",
       "    }\n",
       "</style>\n",
       "<table border=\"1\" class=\"dataframe\">\n",
       "  <thead>\n",
       "    <tr style=\"text-align: right;\">\n",
       "      <th></th>\n",
       "      <th>Release Date</th>\n",
       "      <th>Time</th>\n",
       "      <th>Actual</th>\n",
       "      <th>Forecast</th>\n",
       "      <th>Previous</th>\n",
       "      <th>Decision</th>\n",
       "    </tr>\n",
       "  </thead>\n",
       "  <tbody>\n",
       "    <tr>\n",
       "      <th>0</th>\n",
       "      <td>1998-10-15</td>\n",
       "      <td>13:00:00</td>\n",
       "      <td>5.00</td>\n",
       "      <td>NaN</td>\n",
       "      <td>5.25</td>\n",
       "      <td>-0.25%</td>\n",
       "    </tr>\n",
       "    <tr>\n",
       "      <th>1</th>\n",
       "      <td>1998-11-17</td>\n",
       "      <td>13:00:00</td>\n",
       "      <td>4.75</td>\n",
       "      <td>NaN</td>\n",
       "      <td>5.00</td>\n",
       "      <td>-0.25%</td>\n",
       "    </tr>\n",
       "    <tr>\n",
       "      <th>2</th>\n",
       "      <td>1999-06-30</td>\n",
       "      <td>13:00:00</td>\n",
       "      <td>5.00</td>\n",
       "      <td>NaN</td>\n",
       "      <td>4.75</td>\n",
       "      <td>+0.25%</td>\n",
       "    </tr>\n",
       "    <tr>\n",
       "      <th>3</th>\n",
       "      <td>1999-08-24</td>\n",
       "      <td>13:00:00</td>\n",
       "      <td>5.25</td>\n",
       "      <td>NaN</td>\n",
       "      <td>5.00</td>\n",
       "      <td>+0.25%</td>\n",
       "    </tr>\n",
       "    <tr>\n",
       "      <th>4</th>\n",
       "      <td>1999-11-16</td>\n",
       "      <td>13:00:00</td>\n",
       "      <td>5.50</td>\n",
       "      <td>NaN</td>\n",
       "      <td>5.25</td>\n",
       "      <td>+0.25%</td>\n",
       "    </tr>\n",
       "  </tbody>\n",
       "</table>\n",
       "</div>"
      ],
      "text/plain": [
       "  Release Date      Time  Actual Forecast  Previous Decision\n",
       "0   1998-10-15  13:00:00    5.00      NaN      5.25   -0.25%\n",
       "1   1998-11-17  13:00:00    4.75      NaN      5.00   -0.25%\n",
       "2   1999-06-30  13:00:00    5.00      NaN      4.75   +0.25%\n",
       "3   1999-08-24  13:00:00    5.25      NaN      5.00   +0.25%\n",
       "4   1999-11-16  13:00:00    5.50      NaN      5.25   +0.25%"
      ]
     },
     "execution_count": 4,
     "metadata": {},
     "output_type": "execute_result"
    }
   ],
   "source": [
    "# Convert the 'Release Date' column to the desired format\n",
    "df['Release Date'] = pd.to_datetime(df['Release Date']).dt.strftime('%Y-%m-%d')\n",
    "\n",
    "# Verify the changes\n",
    "df.head()"
   ]
  },
  {
   "cell_type": "code",
   "execution_count": 10,
   "id": "27c07de7-08c3-450a-b544-d9a0e40e8a10",
   "metadata": {},
   "outputs": [
    {
     "data": {
      "text/html": [
       "<div>\n",
       "<style scoped>\n",
       "    .dataframe tbody tr th:only-of-type {\n",
       "        vertical-align: middle;\n",
       "    }\n",
       "\n",
       "    .dataframe tbody tr th {\n",
       "        vertical-align: top;\n",
       "    }\n",
       "\n",
       "    .dataframe thead th {\n",
       "        text-align: right;\n",
       "    }\n",
       "</style>\n",
       "<table border=\"1\" class=\"dataframe\">\n",
       "  <thead>\n",
       "    <tr style=\"text-align: right;\">\n",
       "      <th></th>\n",
       "      <th>Release Date</th>\n",
       "      <th>Time</th>\n",
       "      <th>Actual</th>\n",
       "      <th>Forecast</th>\n",
       "      <th>Previous</th>\n",
       "      <th>Decision</th>\n",
       "    </tr>\n",
       "  </thead>\n",
       "  <tbody>\n",
       "    <tr>\n",
       "      <th>0</th>\n",
       "      <td>1998-10-15</td>\n",
       "      <td>13:00:00</td>\n",
       "      <td>5.00</td>\n",
       "      <td>NaN</td>\n",
       "      <td>5.25</td>\n",
       "      <td>-0.25%</td>\n",
       "    </tr>\n",
       "    <tr>\n",
       "      <th>1</th>\n",
       "      <td>1998-11-17</td>\n",
       "      <td>13:00:00</td>\n",
       "      <td>4.75</td>\n",
       "      <td>NaN</td>\n",
       "      <td>5.00</td>\n",
       "      <td>-0.25%</td>\n",
       "    </tr>\n",
       "    <tr>\n",
       "      <th>2</th>\n",
       "      <td>1999-06-30</td>\n",
       "      <td>13:00:00</td>\n",
       "      <td>5.00</td>\n",
       "      <td>NaN</td>\n",
       "      <td>4.75</td>\n",
       "      <td>+0.25%</td>\n",
       "    </tr>\n",
       "    <tr>\n",
       "      <th>3</th>\n",
       "      <td>1999-08-24</td>\n",
       "      <td>13:00:00</td>\n",
       "      <td>5.25</td>\n",
       "      <td>NaN</td>\n",
       "      <td>5.00</td>\n",
       "      <td>+0.25%</td>\n",
       "    </tr>\n",
       "    <tr>\n",
       "      <th>4</th>\n",
       "      <td>1999-11-16</td>\n",
       "      <td>13:00:00</td>\n",
       "      <td>5.50</td>\n",
       "      <td>NaN</td>\n",
       "      <td>5.25</td>\n",
       "      <td>+0.25%</td>\n",
       "    </tr>\n",
       "  </tbody>\n",
       "</table>\n",
       "</div>"
      ],
      "text/plain": [
       "  Release Date      Time  Actual Forecast  Previous Decision\n",
       "0   1998-10-15  13:00:00    5.00      NaN      5.25   -0.25%\n",
       "1   1998-11-17  13:00:00    4.75      NaN      5.00   -0.25%\n",
       "2   1999-06-30  13:00:00    5.00      NaN      4.75   +0.25%\n",
       "3   1999-08-24  13:00:00    5.25      NaN      5.00   +0.25%\n",
       "4   1999-11-16  13:00:00    5.50      NaN      5.25   +0.25%"
      ]
     },
     "execution_count": 10,
     "metadata": {},
     "output_type": "execute_result"
    }
   ],
   "source": [
    "# Convert 'Actual' and 'Previous' columns to numeric values for subtraction\n",
    "df['Actual'] = (\n",
    "    df['Actual'].astype(str)  # Convert all values to strings\n",
    "    .str.rstrip('%')          # Remove the '%' sign\n",
    "    .replace('', '0')         # Replace empty strings with '0'\n",
    "    .astype(float)            # Convert to float\n",
    ")\n",
    "\n",
    "df['Previous'] = (\n",
    "    df['Previous'].astype(str) \n",
    "    .str.rstrip('%')\n",
    "    .replace('', '0')\n",
    "    .astype(float)\n",
    ")\n",
    "\n",
    "# Calculate the 'Decision' column\n",
    "df['Decision'] = (df['Actual'] - df['Previous']).fillna(0)\n",
    "\n",
    "# Format the 'Decision' column as percentage with sign\n",
    "df['Decision'] = df['Decision'].apply(lambda x: f\"{x:+.2f}%\")\n",
    "\n",
    "# Verify the changes\n",
    "df.head()"
   ]
  },
  {
   "cell_type": "code",
   "execution_count": 12,
   "id": "a19c90c0-cb9b-4f33-91ca-f20d20ecdc7f",
   "metadata": {},
   "outputs": [
    {
     "name": "stdout",
     "output_type": "stream",
     "text": [
      "                  Time  Actual Forecast  Previous Decision\n",
      "Release Date                                              \n",
      "1998-10-15    13:00:00    5.00      NaN      5.25   -0.25%\n",
      "1998-11-17    13:00:00    4.75      NaN      5.00   -0.25%\n",
      "1999-06-30    13:00:00    5.00      NaN      4.75   +0.25%\n",
      "1999-08-24    13:00:00    5.25      NaN      5.00   +0.25%\n",
      "1999-11-16    13:00:00    5.50      NaN      5.25   +0.25%\n",
      "...                ...     ...      ...       ...      ...\n",
      "2024-06-12    13:00:00    5.50    5.50%      5.50   +0.00%\n",
      "2024-07-31    13:00:00    5.50    5.50%      5.50   +0.00%\n",
      "2024-09-18    13:00:00    5.00    5.25%      5.50   -0.50%\n",
      "2024-11-07    14:00:00    4.75    4.75%      5.00   -0.25%\n",
      "2024-12-18    14:00:00     NaN      NaN      4.75   +0.00%\n",
      "\n",
      "[180 rows x 5 columns]\n"
     ]
    }
   ],
   "source": [
    "# Set \"Release Date\" as the index\n",
    "df.set_index('Release Date', inplace=True)\n",
    "\n",
    "# Sort the data by the index (Release Date) in ascending order\n",
    "df.sort_index(inplace=True)\n",
    "\n",
    "# Display the sorted DataFrame\n",
    "print(df)"
   ]
  },
  {
   "cell_type": "code",
   "execution_count": 14,
   "id": "0987882d-d8fe-4033-9b63-7add4c9b34f4",
   "metadata": {},
   "outputs": [
    {
     "name": "stdout",
     "output_type": "stream",
     "text": [
      "<class 'pandas.core.frame.DataFrame'>\n",
      "Index: 180 entries, 1998-10-15 to 2024-12-18\n",
      "Data columns (total 5 columns):\n",
      " #   Column    Non-Null Count  Dtype  \n",
      "---  ------    --------------  -----  \n",
      " 0   Time      180 non-null    object \n",
      " 1   Actual    179 non-null    float64\n",
      " 2   Forecast  132 non-null    object \n",
      " 3   Previous  180 non-null    float64\n",
      " 4   Decision  180 non-null    object \n",
      "dtypes: float64(2), object(3)\n",
      "memory usage: 8.4+ KB\n"
     ]
    }
   ],
   "source": [
    "df.info()"
   ]
  },
  {
   "cell_type": "code",
   "execution_count": 16,
   "id": "2faa7bec-1eaa-49a3-94d3-4d73c1aa7ac5",
   "metadata": {},
   "outputs": [
    {
     "name": "stdout",
     "output_type": "stream",
     "text": [
      "Data saved to FOMC-date-decision-data.csv\n"
     ]
    }
   ],
   "source": [
    "# Save to CSV\n",
    "df.to_csv('FOMC-date-decision-data.csv')\n",
    "print(\"Data saved to FOMC-date-decision-data.csv\")"
   ]
  },
  {
   "cell_type": "code",
   "execution_count": 18,
   "id": "44ba5c76-4be5-4265-9339-b2cf34516584",
   "metadata": {},
   "outputs": [],
   "source": [
    "# End of the script"
   ]
  }
 ],
 "metadata": {
  "kernelspec": {
   "display_name": "Python 3 (ipykernel)",
   "language": "python",
   "name": "python3"
  },
  "language_info": {
   "codemirror_mode": {
    "name": "ipython",
    "version": 3
   },
   "file_extension": ".py",
   "mimetype": "text/x-python",
   "name": "python",
   "nbconvert_exporter": "python",
   "pygments_lexer": "ipython3",
   "version": "3.12.4"
  }
 },
 "nbformat": 4,
 "nbformat_minor": 5
}
